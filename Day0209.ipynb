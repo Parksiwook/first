{
  "cells": [
    {
      "cell_type": "markdown",
      "metadata": {
        "id": "view-in-github",
        "colab_type": "text"
      },
      "source": [
        "<a href=\"https://colab.research.google.com/github/Parksiwook/first/blob/main/Day0209.ipynb\" target=\"_parent\"><img src=\"https://colab.research.google.com/assets/colab-badge.svg\" alt=\"Open In Colab\"/></a>"
      ]
    },
    {
      "cell_type": "code",
      "execution_count": null,
      "metadata": {
        "id": "ZPSWm8Ml-QES"
      },
      "outputs": [],
      "source": [
        "from PIL import Image\n",
        "import numpy as np\n",
        "import os, glob, sys\n",
        "from sklearn import model_selection\n",
        "from tensorflow import keras"
      ]
    },
    {
      "cell_type": "code",
      "execution_count": null,
      "metadata": {
        "colab": {
          "base_uri": "https://localhost:8080/"
        },
        "id": "f1fly-k7-iJQ",
        "outputId": "00687b31-c38a-4738-c440-b78463bcfb19"
      },
      "outputs": [
        {
          "name": "stdout",
          "output_type": "stream",
          "text": [
            "Drive already mounted at /content/drive; to attempt to forcibly remount, call drive.mount(\"/content/drive\", force_remount=True).\n"
          ]
        }
      ],
      "source": [
        "from google.colab import drive\n",
        "drive.mount('/content/drive')"
      ]
    },
    {
      "cell_type": "code",
      "execution_count": null,
      "metadata": {
        "id": "Aer-ZWQi-slz"
      },
      "outputs": [],
      "source": [
        "%%capture\n",
        "!unzip -o /content/drive/MyDrive/dataset.zip"
      ]
    },
    {
      "cell_type": "code",
      "execution_count": null,
      "metadata": {
        "colab": {
          "base_uri": "https://localhost:8080/"
        },
        "id": "e_26z1blChnH",
        "outputId": "d1ddfdea-34a0-4bd5-8dd3-69170614c903"
      },
      "outputs": [
        {
          "name": "stderr",
          "output_type": "stream",
          "text": [
            "/usr/local/lib/python3.7/dist-packages/numpy/core/_asarray.py:136: VisibleDeprecationWarning: Creating an ndarray from ragged nested sequences (which is a list-or-tuple of lists-or-tuples-or ndarrays with different lengths or shapes) is deprecated. If you meant to do this, you must specify 'dtype=object' when creating the ndarray\n",
            "  return array(a, dtype, copy=False, order=order, subok=True)\n"
          ]
        }
      ],
      "source": [
        "img_dir = '/content'\n",
        "categories = ['cat','dog']\n",
        "\n",
        "image_w = 64\n",
        "image_h = 64\n",
        "\n",
        "x, y = [], []\n",
        "for idx, cate in enumerate(categories):\n",
        "    img_dir_detail = os.path.join(img_dir, cate)\n",
        "    files = glob.glob(os.path.join(img_dir_detail, '*.jpg'))\n",
        "\n",
        "    for f in files:\n",
        "        img = Image.open(f)\n",
        "        img = img.convert('RGB')\n",
        "        img = img.resize((image_w, image_h))\n",
        "        img = np.asarray(img)\n",
        "        x.append(img)\n",
        "        y.append(idx)\n",
        "\n",
        "x = np.array(x)\n",
        "y = np.array(y)\n",
        "\n",
        "xy = model_selection.train_test_split(x, y, test_size=0.1, stratify=y)\n",
        "np.save('/content/data.npy', xy)\n"
      ]
    },
    {
      "cell_type": "code",
      "execution_count": null,
      "metadata": {
        "colab": {
          "base_uri": "https://localhost:8080/"
        },
        "id": "p7S0VhcPNAXf",
        "outputId": "b6580cd3-3e69-4dcd-84c0-3c42e8a95223"
      },
      "outputs": [
        {
          "name": "stdout",
          "output_type": "stream",
          "text": [
            "(2148, 64, 64, 3) (239, 64, 64, 3)\n",
            "(2148,) (239,)\n"
          ]
        }
      ],
      "source": [
        "from tensorflow.keras import Sequential\n",
        "from tensorflow.keras.layers import Conv2D, MaxPool2D, Dense, Flatten, Dropout, InputLayer\n",
        "from tensorflow.keras.callbacks import EarlyStopping, ModelCheckpoint\n",
        "import matplotlib.pyplot as plt\n",
        "\n",
        "x_train, x_test, y_train, y_test = np.load('/content/data.npy', allow_pickle=True)\n",
        "\n",
        "x_train = x_train / 255\n",
        "x_test = x_test / 255\n",
        "\n",
        "print(x_train.shape, x_test.shape)\n",
        "print(y_train.shape, y_test.shape)"
      ]
    },
    {
      "cell_type": "code",
      "execution_count": null,
      "metadata": {
        "colab": {
          "base_uri": "https://localhost:8080/"
        },
        "id": "rM54Oz11Ni68",
        "outputId": "ce71ea9f-2bb6-453b-d21c-b9034beed905"
      },
      "outputs": [
        {
          "name": "stdout",
          "output_type": "stream",
          "text": [
            "Downloading data from https://storage.googleapis.com/tensorflow/keras-applications/vgg16/vgg16_weights_tf_dim_ordering_tf_kernels_notop.h5\n",
            "58892288/58889256 [==============================] - 1s 0us/step\n",
            "58900480/58889256 [==============================] - 1s 0us/step\n",
            "Model: \"sequential\"\n",
            "_________________________________________________________________\n",
            " Layer (type)                Output Shape              Param #   \n",
            "=================================================================\n",
            " vgg16 (Functional)          (None, None, None, 512)   14714688  \n",
            "                                                                 \n",
            " flatten (Flatten)           (None, 2048)              0         \n",
            "                                                                 \n",
            " dense (Dense)               (None, 512)               1049088   \n",
            "                                                                 \n",
            " dropout (Dropout)           (None, 512)               0         \n",
            "                                                                 \n",
            " dense_1 (Dense)             (None, 128)               65664     \n",
            "                                                                 \n",
            " dropout_1 (Dropout)         (None, 128)               0         \n",
            "                                                                 \n",
            " dense_2 (Dense)             (None, 1)                 129       \n",
            "                                                                 \n",
            "=================================================================\n",
            "Total params: 15,829,569\n",
            "Trainable params: 1,114,881\n",
            "Non-trainable params: 14,714,688\n",
            "_________________________________________________________________\n"
          ]
        }
      ],
      "source": [
        "conv_base = keras.applications.VGG16(include_top=False)\n",
        "conv_base.trainable = False\n",
        "\n",
        "model = Sequential()\n",
        "model.add(InputLayer(x_train.shape[1:]))\n",
        "model.add(conv_base)\n",
        "\n",
        "model.add(Flatten())\n",
        "model.add(Dense(512, activation='relu'))\n",
        "model.add(Dropout(0.5))\n",
        "model.add(Dense(128, activation='relu'))\n",
        "model.add(Dropout(0.3))\n",
        "model.add(Dense(1, activation='sigmoid'))\n",
        "\n",
        "model.compile(optimizer=keras.optimizers.RMSprop(0.0003),\n",
        "              loss='binary_crossentropy',\n",
        "              metrics=['acc'])\n",
        "\n",
        "model.summary()"
      ]
    },
    {
      "cell_type": "code",
      "execution_count": null,
      "metadata": {
        "colab": {
          "background_save": true,
          "base_uri": "https://localhost:8080/"
        },
        "id": "xbV87RZ-QNwW",
        "outputId": "5f056ca7-3cb3-4fb5-dbfe-694b30e5edad"
      },
      "outputs": [
        {
          "name": "stdout",
          "output_type": "stream",
          "text": [
            "Epoch 1/15\n",
            "68/68 [==============================] - 99s 1s/step - loss: 0.6132 - acc: 0.6569 - val_loss: 0.5201 - val_acc: 0.7322\n",
            "Epoch 2/15\n",
            "68/68 [==============================] - 90s 1s/step - loss: 0.5384 - acc: 0.7310 - val_loss: 0.4863 - val_acc: 0.7782\n",
            "Epoch 3/15\n",
            "68/68 [==============================] - 88s 1s/step - loss: 0.5041 - acc: 0.7506 - val_loss: 0.6003 - val_acc: 0.6987\n",
            "Epoch 4/15\n",
            "68/68 [==============================] - 88s 1s/step - loss: 0.4752 - acc: 0.7608 - val_loss: 0.6433 - val_acc: 0.7197\n",
            "Epoch 5/15\n",
            "68/68 [==============================] - 88s 1s/step - loss: 0.4462 - acc: 0.7814 - val_loss: 0.5368 - val_acc: 0.7490\n",
            "Epoch 6/15\n",
            "68/68 [==============================] - 88s 1s/step - loss: 0.4271 - acc: 0.7972 - val_loss: 0.4714 - val_acc: 0.7782\n",
            "Epoch 7/15\n",
            "68/68 [==============================] - 88s 1s/step - loss: 0.4020 - acc: 0.8075 - val_loss: 0.5615 - val_acc: 0.7490\n",
            "Epoch 8/15\n",
            "68/68 [==============================] - 88s 1s/step - loss: 0.3669 - acc: 0.8331 - val_loss: 0.4439 - val_acc: 0.8368\n",
            "Epoch 9/15\n",
            "68/68 [==============================] - 88s 1s/step - loss: 0.3531 - acc: 0.8350 - val_loss: 0.4563 - val_acc: 0.7992\n",
            "Epoch 10/15\n",
            "68/68 [==============================] - 88s 1s/step - loss: 0.3314 - acc: 0.8513 - val_loss: 0.4565 - val_acc: 0.8201\n",
            "Epoch 11/15\n",
            "68/68 [==============================] - 89s 1s/step - loss: 0.3046 - acc: 0.8625 - val_loss: 0.4839 - val_acc: 0.7992\n",
            "Epoch 12/15\n",
            "68/68 [==============================] - 88s 1s/step - loss: 0.2841 - acc: 0.8797 - val_loss: 0.4533 - val_acc: 0.8201\n",
            "Epoch 13/15\n",
            "68/68 [==============================] - 88s 1s/step - loss: 0.2615 - acc: 0.8858 - val_loss: 0.6219 - val_acc: 0.7992\n",
            "Epoch 14/15\n",
            "68/68 [==============================] - 88s 1s/step - loss: 0.2451 - acc: 0.9007 - val_loss: 0.5770 - val_acc: 0.7908\n",
            "Epoch 15/15\n",
            "68/68 [==============================] - 88s 1s/step - loss: 0.2179 - acc: 0.9096 - val_loss: 0.6548 - val_acc: 0.8033\n",
            "8/8 [==============================] - 9s 1s/step - loss: 0.6548 - acc: 0.8033\n",
            "acc: [0.6548027992248535, 0.8033472895622253]\n"
          ]
        }
      ],
      "source": [
        "history = model.fit(x_train, y_train, epochs=15, batch_size=32, validation_data=(x_test, y_test))\n",
        "print('acc:', model.evaluate(x_test, y_test))"
      ]
    },
    {
      "cell_type": "code",
      "execution_count": null,
      "metadata": {
        "colab": {
          "base_uri": "https://localhost:8080/",
          "height": 295
        },
        "id": "agJybWN0SWTF",
        "outputId": "f78c2f88-610a-4874-90ac-3db6f8d90dd9"
      },
      "outputs": [
        {
          "data": {
            "image/png": "[encoded data removed]",
            "text/plain": [
              "<Figure size 432x288 with 1 Axes>"
            ]
          },
          "metadata": {},
          "output_type": "display_data"
        }
      ],
      "source": [
        "plt.plot(history.history['loss'], label='loss')\n",
        "plt.plot(history.history['val_loss'], label='val_loss')\n",
        "plt.plot(history.history['acc'], label='acc')\n",
        "plt.plot(history.history['val_acc'], label='val_acc')\n",
        "plt.title('model loss')\n",
        "plt.ylabel('loss')\n",
        "plt.xlabel('epoch')\n",
        "plt.legend()\n",
        "plt.show()"
      ]
    },
    {
      "cell_type": "code",
      "execution_count": null,
      "metadata": {
        "colab": {
          "base_uri": "https://localhost:8080/"
        },
        "id": "9KcjTPW6UpaU",
        "outputId": "452c86bd-a858-4ad0-f981-de3b2081d07b"
      },
      "outputs": [
        {
          "data": {
            "text/plain": [
              "array([[1.]], dtype=float32)"
            ]
          },
          "execution_count": 13,
          "metadata": {},
          "output_type": "execute_result"
        }
      ],
      "source": [
        "img = Image.open('/content/cat/cat1.jpg')\n",
        "img = img.convert('RGB')\n",
        "img = img.resize((64, 64))\n",
        "img = np.asarray(img)\n",
        "model.predict(np.array([img]))\n"
      ]
    }
  ],
  "metadata": {
    "accelerator": "GPU",
    "colab": {
      "name": "Day0209.ipynb",
      "provenance": [],
      "mount_file_id": "1waBhWBqqr5eNunY1jyCRcn5SjTZKADIw",
      "authorship_tag": "ABX9TyPZvZNHXuEhXIeYqFHSPV1j",
      "include_colab_link": true
    },
    "kernelspec": {
      "display_name": "Python 3",
      "name": "python3"
    },
    "language_info": {
      "name": "python"
    }
  },
  "nbformat": 4,
  "nbformat_minor": 0
}